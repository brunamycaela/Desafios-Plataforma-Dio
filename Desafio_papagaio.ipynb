{
  "nbformat": 4,
  "nbformat_minor": 0,
  "metadata": {
    "colab": {
      "provenance": [],
      "toc_visible": true,
      "authorship_tag": "ABX9TyMv9UZWhvxvN/In0xDzHG46",
      "include_colab_link": true
    },
    "kernelspec": {
      "name": "python3",
      "display_name": "Python 3"
    },
    "language_info": {
      "name": "python"
    }
  },
  "cells": [
    {
      "cell_type": "markdown",
      "metadata": {
        "id": "view-in-github",
        "colab_type": "text"
      },
      "source": [
        "<a href=\"https://colab.research.google.com/github/brunamycaela/Desafios-Plataforma-Dio/blob/main/Desafio_papagaio.ipynb\" target=\"_parent\"><img src=\"https://colab.research.google.com/assets/colab-badge.svg\" alt=\"Open In Colab\"/></a>"
      ]
    },
    {
      "cell_type": "code",
      "execution_count": 4,
      "metadata": {
        "colab": {
          "base_uri": "https://localhost:8080/"
        },
        "id": "qe1hlowQjMKf",
        "outputId": "c9962adc-5613-46db-e02c-24bb7c6a3bee"
      },
      "outputs": [
        {
          "output_type": "stream",
          "name": "stdout",
          "text": [
            "esquerda\n",
            "ingles\n",
            "direita\n",
            "frances\n",
            "nenhuma\n",
            "portugues\n",
            "ambas\n",
            "caiu\n"
          ]
        }
      ],
      "source": [
        "while True: \n",
        "    papagaio = input().lower()\n",
        "    try: \n",
        "      if papagaio in 'esquerda':\n",
        "        print('ingles')\n",
        "      elif papagaio in 'direita':\n",
        "        print('frances')\n",
        "      elif papagaio in 'nenhuma':\n",
        "        print('portugues')\n",
        "      elif papagaio in 'ambas':\n",
        "        print('caiu')\n",
        "        break\n",
        "    except EOFError: \n",
        "        break"
      ]
    }
  ]
}