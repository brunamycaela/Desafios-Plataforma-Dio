{
  "nbformat": 4,
  "nbformat_minor": 0,
  "metadata": {
    "colab": {
      "provenance": [],
      "toc_visible": true,
      "authorship_tag": "ABX9TyPuCxAktYmsQfxQ6mc+7q1u",
      "include_colab_link": true
    },
    "kernelspec": {
      "name": "python3",
      "display_name": "Python 3"
    },
    "language_info": {
      "name": "python"
    }
  },
  "cells": [
    {
      "cell_type": "markdown",
      "metadata": {
        "id": "view-in-github",
        "colab_type": "text"
      },
      "source": [
        "<a href=\"https://colab.research.google.com/github/brunamycaela/Desafios-Plataforma-Dio/blob/main/Desafio_papagaio.ipynb\" target=\"_parent\"><img src=\"https://colab.research.google.com/assets/colab-badge.svg\" alt=\"Open In Colab\"/></a>"
      ]
    },
    {
      "cell_type": "code",
      "execution_count": 1,
      "metadata": {
        "colab": {
          "base_uri": "https://localhost:8080/"
        },
        "id": "qe1hlowQjMKf",
        "outputId": "13b53c67-422e-40da-d4c6-5e943b69091d"
      },
      "outputs": [
        {
          "output_type": "stream",
          "name": "stdout",
          "text": [
            "O que o papagaio esta dizendo agora? nenhuma\n",
            "portugues\n",
            "O que o papagaio esta dizendo agora? a\n",
            "ingles\n",
            "O que o papagaio esta dizendo agora? esquerda\n",
            "ingles\n",
            "O que o papagaio esta dizendo agora? direita\n",
            "frances\n",
            "O que o papagaio esta dizendo agora? sg\n",
            "caiu\n"
          ]
        }
      ],
      "source": [
        "while True: \n",
        "    papagaio = input(str('O que o papagaio esta dizendo agora? ')).lower()\n",
        "    try: \n",
        "      if papagaio in 'esquerda':\n",
        "        print('ingles')\n",
        "      elif papagaio in 'direita':\n",
        "        print('frances')\n",
        "      elif papagaio in 'nenhuma':\n",
        "        print('portugues')\n",
        "      elif papagaio in 'ambas':\n",
        "        print('caiu')\n",
        "    except EOFError: \n",
        "        break"
      ]
    }
  ]
}