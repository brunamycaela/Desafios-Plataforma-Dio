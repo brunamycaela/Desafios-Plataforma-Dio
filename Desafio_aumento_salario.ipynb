{
  "nbformat": 4,
  "nbformat_minor": 0,
  "metadata": {
    "colab": {
      "provenance": [],
      "toc_visible": true,
      "authorship_tag": "ABX9TyPLGrMSVarRhlItPMinrXmw",
      "include_colab_link": true
    },
    "kernelspec": {
      "name": "python3",
      "display_name": "Python 3"
    },
    "language_info": {
      "name": "python"
    }
  },
  "cells": [
    {
      "cell_type": "markdown",
      "metadata": {
        "id": "view-in-github",
        "colab_type": "text"
      },
      "source": [
        "<a href=\"https://colab.research.google.com/github/brunamycaela/Desafios-Plataforma-Dio/blob/main/Desafio_aumento_salario.ipynb\" target=\"_parent\"><img src=\"https://colab.research.google.com/assets/colab-badge.svg\" alt=\"Open In Colab\"/></a>"
      ]
    },
    {
      "cell_type": "code",
      "execution_count": null,
      "metadata": {
        "colab": {
          "base_uri": "https://localhost:8080/"
        },
        "id": "qe1hlowQjMKf",
        "outputId": "432acd93-6b0f-468b-d976-742a05c1b07f"
      },
      "outputs": [
        {
          "output_type": "stream",
          "name": "stdout",
          "text": [
            "1000\n",
            "Novo salario: 1120,00Reajuste ganho: 120,00Em percentual: 12 %\n"
          ]
        }
      ],
      "source": [
        "salario = int(input()) \n",
        "\n",
        "if salario <= 600:\n",
        "  porcentagem = 17\n",
        "\n",
        "elif salario > 601 and salario < 900:\n",
        "  porcentagem = 13\n",
        "\n",
        "elif salario > 901 and salario < 1500:\n",
        "  porcentagem = 12\n",
        "\n",
        "elif salario > 1501 and salario <= 2000:\n",
        "  porcentagem = 10\n",
        "else: \n",
        "  porcentagem = 5\n",
        "\n",
        "print(f'Novo salario: {salario + (salario * porcentagem / 100):.2f}'.replace('.',','), end='')\n",
        "print(f' Reajuste ganho: {salario * (porcentagem / 100):.2f}'.replace('.',','),end='')\n",
        "print(f' Em percentual: {porcentagem} %')\n"
      ]
    }
  ]
}